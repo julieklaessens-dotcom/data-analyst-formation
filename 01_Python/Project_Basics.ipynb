{
  "cells": [
    {
      "cell_type": "markdown",
      "metadata": {
        "id": "view-in-github",
        "colab_type": "text"
      },
      "source": [
        "<a href=\"https://colab.research.google.com/github/julieklaessens-dotcom/data-analyst-formation/blob/main/Project_Basics.ipynb\" target=\"_parent\"><img src=\"https://colab.research.google.com/assets/colab-badge.svg\" alt=\"Open In Colab\"/></a>"
      ]
    },
    {
      "cell_type": "markdown",
      "metadata": {
        "id": "s0dbKk1qEKl-"
      },
      "source": [
        "# Profitable App Profiles for the App Store and Google Play Markets\n",
        "\n",
        "## About\n",
        "For this project, we'll pretend we're working as data analysts for a company that builds Android and iOS mobile apps. We make our apps available on Google Play and in the App Store.\n",
        "We only build apps that are free to download and install, and our main source of revenue consists of in-app ads. This means that the number of users of our apps determines our revenue for any given app — the more users who see and engage with the ads, the better.\n",
        "\n",
        "## Goal\n",
        "To analyze data to help our developers understand what type of apps are likely to attract more users.\n",
        "\n",
        "## Documentation\n",
        "`AppleStore.csv` : [Link](https://www.kaggle.com/datasets/ramamet4/app-store-apple-data-set-10k-apps)\n",
        "`googleplaystore.csv` : [Link](https://www.kaggle.com/datasets/lava18/google-play-store-apps)\n"
      ]
    },
    {
      "cell_type": "code",
      "execution_count": null,
      "metadata": {
        "id": "dtzc1DI5EKmE"
      },
      "outputs": [],
      "source": [
        "from google.colab import drive\n",
        "#drive.mount('/content/drive')\n",
        "from csv import reader\n",
        "\n",
        "# The App Store data set\n",
        "opened_file_ios = open('/content/drive/MyDrive/Data/App/AppleStore.csv', encoding='utf-8')\n",
        "read_file_ios = reader(opened_file_ios)\n",
        "apps_data_ios = list(read_file_ios)\n",
        "apps_data_ios_header = apps_data_ios[0]\n",
        "apps_data_ios = apps_data_ios[1:]\n",
        "\n",
        "# The Google Play data set\n",
        "opened_file_android = open('/content/drive/MyDrive/Data/App/googleplaystore.csv', encoding='utf-8')\n",
        "read_file_android = reader(opened_file_android)\n",
        "apps_data_android = list(read_file_android)\n",
        "apps_data_android_header = apps_data_android[0]\n",
        "apps_data_android = apps_data_android[1:]"
      ]
    },
    {
      "cell_type": "code",
      "execution_count": null,
      "metadata": {
        "id": "geNRumsQEKmG"
      },
      "outputs": [],
      "source": [
        "# explore rows in a more readable way\n",
        "def explore_data(dataset, start, end, rows_and_columns=False):\n",
        "    dataset_slice = dataset[start:end]\n",
        "    for row in dataset_slice:\n",
        "        print(row)\n",
        "        print('\\n') # adds a new (empty) line after each row\n",
        "\n",
        "    if rows_and_columns:\n",
        "        print('Number of rows:', len(dataset))\n",
        "        print('Number of columns:', len(dataset[0]))"
      ]
    },
    {
      "cell_type": "code",
      "execution_count": null,
      "metadata": {
        "colab": {
          "base_uri": "https://localhost:8080/"
        },
        "id": "uamTrylLEKmH",
        "outputId": "0ce7f61f-67d8-4980-9c3f-f702f3950c25"
      },
      "outputs": [
        {
          "output_type": "stream",
          "name": "stdout",
          "text": [
            "['id', 'track_name', 'size_bytes', 'currency', 'price', 'rating_count_tot', 'rating_count_ver', 'user_rating', 'user_rating_ver', 'ver', 'cont_rating', 'prime_genre', 'sup_devices.num', 'ipadSc_urls.num', 'lang.num', 'vpp_lic']\n",
            "\n",
            "\n",
            "['284882215', 'Facebook', '389879808', 'USD', '0.0', '2974676', '212', '3.5', '3.5', '95.0', '4+', 'Social Networking', '37', '1', '29', '1']\n",
            "\n",
            "\n",
            "['389801252', 'Instagram', '113954816', 'USD', '0.0', '2161558', '1289', '4.5', '4.0', '10.23', '12+', 'Photo & Video', '37', '0', '29', '1']\n",
            "\n",
            "\n",
            "['529479190', 'Clash of Clans', '116476928', 'USD', '0.0', '2130805', '579', '4.5', '4.5', '9.24.12', '9+', 'Games', '38', '5', '18', '1']\n",
            "\n",
            "\n",
            "['420009108', 'Temple Run', '65921024', 'USD', '0.0', '1724546', '3842', '4.5', '4.0', '1.6.2', '9+', 'Games', '40', '5', '1', '1']\n",
            "\n",
            "\n",
            "['284035177', 'Pandora - Music & Radio', '130242560', 'USD', '0.0', '1126879', '3594', '4.0', '4.5', '8.4.1', '12+', 'Music', '37', '4', '1', '1']\n",
            "\n",
            "\n",
            "Number of rows: 7197\n",
            "Number of columns: 16\n"
          ]
        }
      ],
      "source": [
        "print(apps_data_ios_header)\n",
        "print('\\n')\n",
        "explore_data(apps_data_ios, 0, 5, True)"
      ]
    },
    {
      "cell_type": "code",
      "execution_count": null,
      "metadata": {
        "scrolled": true,
        "colab": {
          "base_uri": "https://localhost:8080/"
        },
        "id": "iP3Jy_ioEKmJ",
        "outputId": "b02c29ee-810c-4b0c-d834-4dcc177404a4"
      },
      "outputs": [
        {
          "output_type": "stream",
          "name": "stdout",
          "text": [
            "['App', 'Category', 'Rating', 'Reviews', 'Size', 'Installs', 'Type', 'Price', 'Content Rating', 'Genres', 'Last Updated', 'Current Ver', 'Android Ver']\n",
            "\n",
            "\n",
            "['Photo Editor & Candy Camera & Grid & ScrapBook', 'ART_AND_DESIGN', '4.1', '159', '19M', '10,000+', 'Free', '0', 'Everyone', 'Art & Design', 'January 7, 2018', '1.0.0', '4.0.3 and up']\n",
            "\n",
            "\n",
            "['Coloring book moana', 'ART_AND_DESIGN', '3.9', '967', '14M', '500,000+', 'Free', '0', 'Everyone', 'Art & Design;Pretend Play', 'January 15, 2018', '2.0.0', '4.0.3 and up']\n",
            "\n",
            "\n",
            "['U Launcher Lite – FREE Live Cool Themes, Hide Apps', 'ART_AND_DESIGN', '4.7', '87510', '8.7M', '5,000,000+', 'Free', '0', 'Everyone', 'Art & Design', 'August 1, 2018', '1.2.4', '4.0.3 and up']\n",
            "\n",
            "\n",
            "['Sketch - Draw & Paint', 'ART_AND_DESIGN', '4.5', '215644', '25M', '50,000,000+', 'Free', '0', 'Teen', 'Art & Design', 'June 8, 2018', 'Varies with device', '4.2 and up']\n",
            "\n",
            "\n",
            "['Pixel Draw - Number Art Coloring Book', 'ART_AND_DESIGN', '4.3', '967', '2.8M', '100,000+', 'Free', '0', 'Everyone', 'Art & Design;Creativity', 'June 20, 2018', '1.1', '4.4 and up']\n",
            "\n",
            "\n",
            "Number of rows: 10841\n",
            "Number of columns: 13\n"
          ]
        }
      ],
      "source": [
        "print(apps_data_android_header)\n",
        "print('\\n')\n",
        "explore_data(apps_data_android, 0, 5, True)"
      ]
    },
    {
      "cell_type": "code",
      "execution_count": null,
      "metadata": {
        "scrolled": true,
        "colab": {
          "base_uri": "https://localhost:8080/"
        },
        "id": "sX8SKyXQEKmJ",
        "outputId": "23402934-da35-490c-a1ba-389c57d4fe19"
      },
      "outputs": [
        {
          "output_type": "stream",
          "name": "stdout",
          "text": [
            "['Life Made WI-Fi Touchscreen Photo Frame', '1.9', '19', '3.0M', '1,000+', 'Free', '0', 'Everyone', '', 'February 11, 2018', '1.0.19', '4.0 and up']\n",
            "10840\n"
          ]
        }
      ],
      "source": [
        "print(apps_data_android[10472])\n",
        "# The category is missing for this app, so we delete it\n",
        "del apps_data_android[10472]\n",
        "print(len(apps_data_android))"
      ]
    },
    {
      "cell_type": "code",
      "execution_count": null,
      "metadata": {
        "colab": {
          "base_uri": "https://localhost:8080/"
        },
        "id": "12bWw3IWEKmK",
        "outputId": "19db3fa3-b61e-4a04-f95c-35bfaad00cd3"
      },
      "outputs": [
        {
          "output_type": "stream",
          "name": "stdout",
          "text": [
            "['Instagram', 'SOCIAL', '4.5', '66577313', 'Varies with device', '1,000,000,000+', 'Free', '0', 'Teen', 'Social', 'July 31, 2018', 'Varies with device', 'Varies with device']\n",
            "['Instagram', 'SOCIAL', '4.5', '66577446', 'Varies with device', '1,000,000,000+', 'Free', '0', 'Teen', 'Social', 'July 31, 2018', 'Varies with device', 'Varies with device']\n",
            "['Instagram', 'SOCIAL', '4.5', '66577313', 'Varies with device', '1,000,000,000+', 'Free', '0', 'Teen', 'Social', 'July 31, 2018', 'Varies with device', 'Varies with device']\n",
            "['Instagram', 'SOCIAL', '4.5', '66509917', 'Varies with device', '1,000,000,000+', 'Free', '0', 'Teen', 'Social', 'July 31, 2018', 'Varies with device', 'Varies with device']\n"
          ]
        }
      ],
      "source": [
        "# The file with the data set Google Play contains a couple apps with duplicate names:\n",
        "for app in apps_data_android:\n",
        "    name = app[0]\n",
        "    if name == \"Instagram\":\n",
        "        print(app)"
      ]
    },
    {
      "cell_type": "code",
      "execution_count": null,
      "metadata": {
        "colab": {
          "base_uri": "https://localhost:8080/"
        },
        "id": "qOX8Z9-iEKmL",
        "outputId": "ab006e13-232d-4b67-89fe-4213c3a1b5ae"
      },
      "outputs": [
        {
          "output_type": "stream",
          "name": "stdout",
          "text": [
            "Duplicate apps:  1181\n"
          ]
        }
      ],
      "source": [
        "duplicate_app = []\n",
        "unique_app = []\n",
        "\n",
        "for app in apps_data_android:\n",
        "    name = app[0]\n",
        "    if name in unique_app:\n",
        "        duplicate_app.append(name)\n",
        "    else:\n",
        "        unique_app.append(name)\n",
        "\n",
        "print(\"Duplicate apps: \", len(duplicate_app))\n",
        "\n",
        "# We will keep the duplicate app that has the max amount of reviews (column 3)\n",
        "# and delete the other duplicate ones.\n"
      ]
    },
    {
      "cell_type": "code",
      "execution_count": null,
      "metadata": {
        "colab": {
          "base_uri": "https://localhost:8080/"
        },
        "id": "_eW2ZqDJEKmM",
        "outputId": "a6dc443a-5f5d-4d0a-88b3-8aad5875cc76"
      },
      "outputs": [
        {
          "output_type": "stream",
          "name": "stdout",
          "text": [
            "9659\n",
            "Photo Editor & Candy Camera & Grid & ScrapBook: 159.0\n",
            "Coloring book moana: 974.0\n",
            "U Launcher Lite – FREE Live Cool Themes, Hide Apps: 87510.0\n",
            "Sketch - Draw & Paint: 215644.0\n",
            "Pixel Draw - Number Art Coloring Book: 967.0\n",
            "['Photo Editor & Candy Camera & Grid & ScrapBook', 'ART_AND_DESIGN', '4.1', '159', '19M', '10,000+', 'Free', '0', 'Everyone', 'Art & Design', 'January 7, 2018', '1.0.0', '4.0.3 and up']\n",
            "\n",
            "\n",
            "['U Launcher Lite – FREE Live Cool Themes, Hide Apps', 'ART_AND_DESIGN', '4.7', '87510', '8.7M', '5,000,000+', 'Free', '0', 'Everyone', 'Art & Design', 'August 1, 2018', '1.2.4', '4.0.3 and up']\n",
            "\n",
            "\n",
            "['Sketch - Draw & Paint', 'ART_AND_DESIGN', '4.5', '215644', '25M', '50,000,000+', 'Free', '0', 'Teen', 'Art & Design', 'June 8, 2018', 'Varies with device', '4.2 and up']\n",
            "\n",
            "\n",
            "['Pixel Draw - Number Art Coloring Book', 'ART_AND_DESIGN', '4.3', '967', '2.8M', '100,000+', 'Free', '0', 'Everyone', 'Art & Design;Creativity', 'June 20, 2018', '1.1', '4.4 and up']\n",
            "\n",
            "\n",
            "['Paper flowers instructions', 'ART_AND_DESIGN', '4.4', '167', '5.6M', '50,000+', 'Free', '0', 'Everyone', 'Art & Design', 'March 26, 2017', '1.0', '2.3 and up']\n",
            "\n",
            "\n",
            "Number of rows: 9659\n",
            "Number of columns: 13\n"
          ]
        }
      ],
      "source": [
        "# Create a dictionary where each key is a unique app name and the corresponding dictionary value\n",
        "#is the highest number of reviews of that app.\n",
        "reviews_max = {}\n",
        "\n",
        "for app in apps_data_android:\n",
        "    name = app[0]\n",
        "    n_reviews = float(app[3])\n",
        "    if name in reviews_max and reviews_max[name] < n_reviews:\n",
        "        reviews_max[name] = n_reviews\n",
        "    elif name not in reviews_max:\n",
        "        reviews_max[name] = n_reviews\n",
        "\n",
        "print(len(reviews_max))\n",
        "\n",
        "# print the first 5 elements of the dictionnary to inspect the items\n",
        "first_elements = list(reviews_max.items())[:5]\n",
        "\n",
        "for key, value in first_elements:\n",
        "    print(f\"{key}: {value}\")\n",
        "\n",
        "# Use the dictionnary to delete the duplicate apps\n",
        "android_clean = [] # new cleaned data set\n",
        "already_added = [] # store app names\n",
        "\n",
        "for app in apps_data_android:\n",
        "    name = app[0]\n",
        "    n_reviews = float(app[3])\n",
        "    if (n_reviews == reviews_max[name]) and (name not in already_added):\n",
        "        android_clean.append(app)\n",
        "        already_added.append(name)\n",
        "\n",
        "explore_data(android_clean, 0, 5, True)\n"
      ]
    },
    {
      "cell_type": "code",
      "execution_count": null,
      "metadata": {
        "colab": {
          "base_uri": "https://localhost:8080/"
        },
        "id": "g7yCLbX9EKmM",
        "outputId": "63626df6-e1ba-4a96-adc5-48bfefb25f73"
      },
      "outputs": [
        {
          "output_type": "stream",
          "name": "stdout",
          "text": [
            "True\n",
            "False\n",
            "True\n",
            "True\n"
          ]
        }
      ],
      "source": [
        "# Takes in a string and returns False if there's any character in the string\n",
        "# that doesn't belong to the set of common English characters; otherwise, the function returns True\n",
        "#def english(a_string):\n",
        "#    for character in a_string:\n",
        "#        if ord(character) > 127:\n",
        "#            return False\n",
        "#        return True\n",
        "\n",
        "# If the input string has more than three characters that fall outside the ASCII range (0 - 127),\n",
        "# then the function should return False (identify the string as non-English),\n",
        "# otherwise it should return True.\n",
        "\n",
        "def english(a_string):\n",
        "    char = 0\n",
        "    for character in a_string:\n",
        "        if ord(character) > 127:\n",
        "            char += 1\n",
        "    if char > 3:\n",
        "        return False\n",
        "    else:\n",
        "        return True\n",
        "\n",
        "print(english('Instagram'))\n",
        "print(english('爱奇艺PPS -《欢乐颂2》电视剧热播'))\n",
        "print(english(\"Suite bureautique gratuite « Docs To Go™\"))\n",
        "print(english('Instachat 😜'))"
      ]
    },
    {
      "cell_type": "code",
      "execution_count": null,
      "metadata": {
        "colab": {
          "base_uri": "https://localhost:8080/"
        },
        "id": "HvUnNlLhEKmN",
        "outputId": "ff64480d-f6f4-4047-c6ba-991d6d00ec65"
      },
      "outputs": [
        {
          "output_type": "stream",
          "name": "stdout",
          "text": [
            "['Photo Editor & Candy Camera & Grid & ScrapBook', 'ART_AND_DESIGN', '4.1', '159', '19M', '10,000+', 'Free', '0', 'Everyone', 'Art & Design', 'January 7, 2018', '1.0.0', '4.0.3 and up']\n",
            "\n",
            "\n",
            "['U Launcher Lite – FREE Live Cool Themes, Hide Apps', 'ART_AND_DESIGN', '4.7', '87510', '8.7M', '5,000,000+', 'Free', '0', 'Everyone', 'Art & Design', 'August 1, 2018', '1.2.4', '4.0.3 and up']\n",
            "\n",
            "\n",
            "['Sketch - Draw & Paint', 'ART_AND_DESIGN', '4.5', '215644', '25M', '50,000,000+', 'Free', '0', 'Teen', 'Art & Design', 'June 8, 2018', 'Varies with device', '4.2 and up']\n",
            "\n",
            "\n",
            "['Pixel Draw - Number Art Coloring Book', 'ART_AND_DESIGN', '4.3', '967', '2.8M', '100,000+', 'Free', '0', 'Everyone', 'Art & Design;Creativity', 'June 20, 2018', '1.1', '4.4 and up']\n",
            "\n",
            "\n",
            "['Paper flowers instructions', 'ART_AND_DESIGN', '4.4', '167', '5.6M', '50,000+', 'Free', '0', 'Everyone', 'Art & Design', 'March 26, 2017', '1.0', '2.3 and up']\n",
            "\n",
            "\n",
            "Number of rows: 9614\n",
            "Number of columns: 13\n",
            "['284882215', 'Facebook', '389879808', 'USD', '0.0', '2974676', '212', '3.5', '3.5', '95.0', '4+', 'Social Networking', '37', '1', '29', '1']\n",
            "\n",
            "\n",
            "['389801252', 'Instagram', '113954816', 'USD', '0.0', '2161558', '1289', '4.5', '4.0', '10.23', '12+', 'Photo & Video', '37', '0', '29', '1']\n",
            "\n",
            "\n",
            "['529479190', 'Clash of Clans', '116476928', 'USD', '0.0', '2130805', '579', '4.5', '4.5', '9.24.12', '9+', 'Games', '38', '5', '18', '1']\n",
            "\n",
            "\n",
            "['420009108', 'Temple Run', '65921024', 'USD', '0.0', '1724546', '3842', '4.5', '4.0', '1.6.2', '9+', 'Games', '40', '5', '1', '1']\n",
            "\n",
            "\n",
            "['284035177', 'Pandora - Music & Radio', '130242560', 'USD', '0.0', '1126879', '3594', '4.0', '4.5', '8.4.1', '12+', 'Music', '37', '4', '1', '1']\n",
            "\n",
            "\n",
            "Number of rows: 6183\n",
            "Number of columns: 16\n"
          ]
        }
      ],
      "source": [
        "# Filter out non-English apps from both datasets\n",
        "# Google Play\n",
        "android_clean_english = []\n",
        "for name in android_clean:\n",
        "    if english(name[0]):\n",
        "        android_clean_english.append(name)\n",
        "\n",
        "explore_data(android_clean_english, 0, 5, True)\n",
        "\n",
        "# Apple Store\n",
        "apps_data_ios_english = []\n",
        "for name in apps_data_ios:\n",
        "    if english(name[1]):\n",
        "        apps_data_ios_english.append(name)\n",
        "\n",
        "explore_data(apps_data_ios_english, 0, 5, True)"
      ]
    },
    {
      "cell_type": "code",
      "execution_count": null,
      "metadata": {
        "scrolled": true,
        "colab": {
          "base_uri": "https://localhost:8080/"
        },
        "id": "1GLNo81IEKmO",
        "outputId": "c59175f5-70c3-4060-e27d-88f9557b010f"
      },
      "outputs": [
        {
          "output_type": "stream",
          "name": "stdout",
          "text": [
            "['Photo Editor & Candy Camera & Grid & ScrapBook', 'ART_AND_DESIGN', '4.1', '159', '19M', '10,000+', 'Free', '0', 'Everyone', 'Art & Design', 'January 7, 2018', '1.0.0', '4.0.3 and up']\n",
            "\n",
            "\n",
            "['U Launcher Lite – FREE Live Cool Themes, Hide Apps', 'ART_AND_DESIGN', '4.7', '87510', '8.7M', '5,000,000+', 'Free', '0', 'Everyone', 'Art & Design', 'August 1, 2018', '1.2.4', '4.0.3 and up']\n",
            "\n",
            "\n",
            "['Sketch - Draw & Paint', 'ART_AND_DESIGN', '4.5', '215644', '25M', '50,000,000+', 'Free', '0', 'Teen', 'Art & Design', 'June 8, 2018', 'Varies with device', '4.2 and up']\n",
            "\n",
            "\n",
            "['Pixel Draw - Number Art Coloring Book', 'ART_AND_DESIGN', '4.3', '967', '2.8M', '100,000+', 'Free', '0', 'Everyone', 'Art & Design;Creativity', 'June 20, 2018', '1.1', '4.4 and up']\n",
            "\n",
            "\n",
            "['Paper flowers instructions', 'ART_AND_DESIGN', '4.4', '167', '5.6M', '50,000+', 'Free', '0', 'Everyone', 'Art & Design', 'March 26, 2017', '1.0', '2.3 and up']\n",
            "\n",
            "\n",
            "Number of rows: 8864\n",
            "Number of columns: 13\n",
            "['284882215', 'Facebook', '389879808', 'USD', '0.0', '2974676', '212', '3.5', '3.5', '95.0', '4+', 'Social Networking', '37', '1', '29', '1']\n",
            "\n",
            "\n",
            "['389801252', 'Instagram', '113954816', 'USD', '0.0', '2161558', '1289', '4.5', '4.0', '10.23', '12+', 'Photo & Video', '37', '0', '29', '1']\n",
            "\n",
            "\n",
            "['529479190', 'Clash of Clans', '116476928', 'USD', '0.0', '2130805', '579', '4.5', '4.5', '9.24.12', '9+', 'Games', '38', '5', '18', '1']\n",
            "\n",
            "\n",
            "['420009108', 'Temple Run', '65921024', 'USD', '0.0', '1724546', '3842', '4.5', '4.0', '1.6.2', '9+', 'Games', '40', '5', '1', '1']\n",
            "\n",
            "\n",
            "['284035177', 'Pandora - Music & Radio', '130242560', 'USD', '0.0', '1126879', '3594', '4.0', '4.5', '8.4.1', '12+', 'Music', '37', '4', '1', '1']\n",
            "\n",
            "\n",
            "Number of rows: 3222\n",
            "Number of columns: 16\n"
          ]
        }
      ],
      "source": [
        "# Loop through each dataset to isolate the free apps in separate lists\n",
        "# Google Play\n",
        "android_clean_english_free = []\n",
        "for key in android_clean_english:\n",
        "    if key[7] == '0':\n",
        "        android_clean_english_free.append(key)\n",
        "\n",
        "explore_data(android_clean_english_free, 0, 5, True)\n",
        "\n",
        "# Apple Store\n",
        "apps_data_ios_english_free = []\n",
        "for key in apps_data_ios_english:\n",
        "    if key[4] == '0.0':\n",
        "        apps_data_ios_english_free.append(key)\n",
        "\n",
        "explore_data(apps_data_ios_english_free, 0, 5, True)"
      ]
    },
    {
      "cell_type": "markdown",
      "metadata": {
        "id": "60GdDxLVEKmP"
      },
      "source": [
        "### Context\n",
        "\n",
        "To minimize risks and overhead, our validation strategy for an app idea has three steps:\n",
        "\n",
        "1. Build a minimal Android version of the app, and add it to Google Play.\n",
        "2. If the app has a good response from users, we develop it further.\n",
        "3. If the app is profitable after six months, we build an iOS version of the app and add it to the App Store.\n",
        "Because our end goal is to add the app on both Google Play and the App Store, we need to find app profiles that are successful in both markets. For instance, a profile that works well for both markets might be a productivity app that makes use of gamification.\n",
        "\n",
        "We will use the columns of genre for each market (App Store data set : `prime_genre` column, Google Play data set : `Genres` and `Category` columns)"
      ]
    },
    {
      "cell_type": "code",
      "execution_count": null,
      "metadata": {
        "colab": {
          "base_uri": "https://localhost:8080/"
        },
        "id": "yYAr7lHSEKmQ",
        "outputId": "2926d3ed-e62a-4ed7-fe0a-69ec5a5275e7"
      },
      "outputs": [
        {
          "output_type": "stream",
          "name": "stdout",
          "text": [
            "Games : 58.16263190564867\n",
            "Entertainment : 7.883302296710118\n",
            "Photo & Video : 4.9658597144630665\n",
            "Education : 3.662321539416512\n",
            "Social Networking : 3.2898820608317814\n",
            "Shopping : 2.60707635009311\n",
            "Utilities : 2.5139664804469275\n",
            "Sports : 2.1415270018621975\n",
            "Music : 2.0484171322160147\n",
            "Health & Fitness : 2.0173805090006205\n",
            "Productivity : 1.7380509000620732\n",
            "Lifestyle : 1.5828677839851024\n",
            "News : 1.3345747982619491\n",
            "Travel : 1.2414649286157666\n",
            "Finance : 1.1173184357541899\n",
            "Weather : 0.8690254500310366\n",
            "Food & Drink : 0.8069522036002483\n",
            "Reference : 0.5586592178770949\n",
            "Business : 0.5276225946617008\n",
            "Book : 0.4345127250155183\n",
            "Navigation : 0.186219739292365\n",
            "Medical : 0.186219739292365\n",
            "Catalogs : 0.12414649286157665\n",
            "\n",
            "\n",
            "Tools : 8.449909747292418\n",
            "Entertainment : 6.069494584837545\n",
            "Education : 5.347472924187725\n",
            "Business : 4.591606498194946\n",
            "Productivity : 3.892148014440433\n",
            "Lifestyle : 3.892148014440433\n",
            "Finance : 3.7003610108303246\n",
            "Medical : 3.531137184115524\n",
            "Sports : 3.463447653429603\n",
            "Personalization : 3.3167870036101084\n",
            "Communication : 3.2378158844765346\n",
            "Action : 3.1024368231046933\n",
            "Health & Fitness : 3.0798736462093865\n",
            "Photography : 2.944494584837545\n",
            "News & Magazines : 2.7978339350180503\n",
            "Social : 2.6624548736462095\n",
            "Travel & Local : 2.3240072202166067\n",
            "Shopping : 2.2450361010830324\n",
            "Books & Reference : 2.1435018050541514\n",
            "Simulation : 2.0419675090252705\n",
            "Dating : 1.861462093862816\n",
            "Arcade : 1.8501805054151623\n",
            "Video Players & Editors : 1.7712093862815883\n",
            "Casual : 1.7599277978339352\n",
            "Maps & Navigation : 1.3989169675090252\n",
            "Food & Drink : 1.2409747292418771\n",
            "Puzzle : 1.128158844765343\n",
            "Racing : 0.9927797833935018\n",
            "Role Playing : 0.9363718411552346\n",
            "Libraries & Demo : 0.9363718411552346\n",
            "Auto & Vehicles : 0.9250902527075812\n",
            "Strategy : 0.9138086642599278\n",
            "House & Home : 0.8235559566787004\n",
            "Weather : 0.8009927797833934\n",
            "Events : 0.7107400722021661\n",
            "Adventure : 0.6768953068592057\n",
            "Comics : 0.6092057761732852\n",
            "Beauty : 0.5979241877256317\n",
            "Art & Design : 0.5979241877256317\n",
            "Parenting : 0.4963898916967509\n",
            "Card : 0.45126353790613716\n",
            "Casino : 0.42870036101083037\n",
            "Trivia : 0.41741877256317694\n",
            "Educational;Education : 0.39485559566787\n",
            "Board : 0.3835740072202166\n",
            "Educational : 0.3722924187725632\n",
            "Education;Education : 0.33844765342960287\n",
            "Word : 0.2594765342960289\n",
            "Casual;Pretend Play : 0.236913357400722\n",
            "Music : 0.2030685920577617\n",
            "Racing;Action & Adventure : 0.16922382671480143\n",
            "Puzzle;Brain Games : 0.16922382671480143\n",
            "Entertainment;Music & Video : 0.16922382671480143\n",
            "Casual;Brain Games : 0.13537906137184114\n",
            "Casual;Action & Adventure : 0.13537906137184114\n",
            "Arcade;Action & Adventure : 0.12409747292418773\n",
            "Action;Action & Adventure : 0.10153429602888085\n",
            "Educational;Pretend Play : 0.09025270758122744\n",
            "Simulation;Action & Adventure : 0.078971119133574\n",
            "Parenting;Education : 0.078971119133574\n",
            "Entertainment;Brain Games : 0.078971119133574\n",
            "Board;Brain Games : 0.078971119133574\n",
            "Parenting;Music & Video : 0.06768953068592057\n",
            "Educational;Brain Games : 0.06768953068592057\n",
            "Casual;Creativity : 0.06768953068592057\n",
            "Art & Design;Creativity : 0.06768953068592057\n",
            "Education;Pretend Play : 0.056407942238267145\n",
            "Role Playing;Pretend Play : 0.04512635379061372\n",
            "Education;Creativity : 0.04512635379061372\n",
            "Role Playing;Action & Adventure : 0.033844765342960284\n",
            "Puzzle;Action & Adventure : 0.033844765342960284\n",
            "Entertainment;Creativity : 0.033844765342960284\n",
            "Entertainment;Action & Adventure : 0.033844765342960284\n",
            "Educational;Creativity : 0.033844765342960284\n",
            "Educational;Action & Adventure : 0.033844765342960284\n",
            "Education;Music & Video : 0.033844765342960284\n",
            "Education;Brain Games : 0.033844765342960284\n",
            "Education;Action & Adventure : 0.033844765342960284\n",
            "Adventure;Action & Adventure : 0.033844765342960284\n",
            "Video Players & Editors;Music & Video : 0.02256317689530686\n",
            "Sports;Action & Adventure : 0.02256317689530686\n",
            "Simulation;Pretend Play : 0.02256317689530686\n",
            "Puzzle;Creativity : 0.02256317689530686\n",
            "Music;Music & Video : 0.02256317689530686\n",
            "Entertainment;Pretend Play : 0.02256317689530686\n",
            "Casual;Education : 0.02256317689530686\n",
            "Board;Action & Adventure : 0.02256317689530686\n",
            "Video Players & Editors;Creativity : 0.01128158844765343\n",
            "Trivia;Education : 0.01128158844765343\n",
            "Travel & Local;Action & Adventure : 0.01128158844765343\n",
            "Tools;Education : 0.01128158844765343\n",
            "Strategy;Education : 0.01128158844765343\n",
            "Strategy;Creativity : 0.01128158844765343\n",
            "Strategy;Action & Adventure : 0.01128158844765343\n",
            "Simulation;Education : 0.01128158844765343\n",
            "Role Playing;Brain Games : 0.01128158844765343\n",
            "Racing;Pretend Play : 0.01128158844765343\n",
            "Puzzle;Education : 0.01128158844765343\n",
            "Parenting;Brain Games : 0.01128158844765343\n",
            "Music & Audio;Music & Video : 0.01128158844765343\n",
            "Lifestyle;Pretend Play : 0.01128158844765343\n",
            "Lifestyle;Education : 0.01128158844765343\n",
            "Health & Fitness;Education : 0.01128158844765343\n",
            "Health & Fitness;Action & Adventure : 0.01128158844765343\n",
            "Entertainment;Education : 0.01128158844765343\n",
            "Communication;Creativity : 0.01128158844765343\n",
            "Comics;Creativity : 0.01128158844765343\n",
            "Casual;Music & Video : 0.01128158844765343\n",
            "Card;Action & Adventure : 0.01128158844765343\n",
            "Books & Reference;Education : 0.01128158844765343\n",
            "Art & Design;Pretend Play : 0.01128158844765343\n",
            "Art & Design;Action & Adventure : 0.01128158844765343\n",
            "Arcade;Pretend Play : 0.01128158844765343\n",
            "Adventure;Education : 0.01128158844765343\n",
            "\n",
            "\n",
            "FAMILY : 18.907942238267147\n",
            "GAME : 9.724729241877256\n",
            "TOOLS : 8.461191335740072\n",
            "BUSINESS : 4.591606498194946\n",
            "LIFESTYLE : 3.9034296028880866\n",
            "PRODUCTIVITY : 3.892148014440433\n",
            "FINANCE : 3.7003610108303246\n",
            "MEDICAL : 3.531137184115524\n",
            "SPORTS : 3.395758122743682\n",
            "PERSONALIZATION : 3.3167870036101084\n",
            "COMMUNICATION : 3.2378158844765346\n",
            "HEALTH_AND_FITNESS : 3.0798736462093865\n",
            "PHOTOGRAPHY : 2.944494584837545\n",
            "NEWS_AND_MAGAZINES : 2.7978339350180503\n",
            "SOCIAL : 2.6624548736462095\n",
            "TRAVEL_AND_LOCAL : 2.33528880866426\n",
            "SHOPPING : 2.2450361010830324\n",
            "BOOKS_AND_REFERENCE : 2.1435018050541514\n",
            "DATING : 1.861462093862816\n",
            "VIDEO_PLAYERS : 1.7937725631768955\n",
            "MAPS_AND_NAVIGATION : 1.3989169675090252\n",
            "FOOD_AND_DRINK : 1.2409747292418771\n",
            "EDUCATION : 1.1620036101083033\n",
            "ENTERTAINMENT : 0.9589350180505415\n",
            "LIBRARIES_AND_DEMO : 0.9363718411552346\n",
            "AUTO_AND_VEHICLES : 0.9250902527075812\n",
            "HOUSE_AND_HOME : 0.8235559566787004\n",
            "WEATHER : 0.8009927797833934\n",
            "EVENTS : 0.7107400722021661\n",
            "PARENTING : 0.6543321299638989\n",
            "ART_AND_DESIGN : 0.6430505415162455\n",
            "COMICS : 0.6204873646209386\n",
            "BEAUTY : 0.5979241877256317\n"
          ]
        }
      ],
      "source": [
        "# Return the frequency table (as a dictionary) for any column we want.\n",
        "# The frequencies should also be expressed as percentages\n",
        "def freq_table(dataset, index):\n",
        "    freq = {}\n",
        "    number_app = 0\n",
        "    freq_perc = {}\n",
        "\n",
        "    for row in dataset:\n",
        "        number_app += 1\n",
        "        key = row[index]\n",
        "        if key in freq:\n",
        "            freq[key] += 1\n",
        "        else:\n",
        "            freq[key] = 1\n",
        "\n",
        "    for item in freq:\n",
        "        percentage = freq[item]/number_app*100\n",
        "        freq_perc[item] = percentage\n",
        "\n",
        "    return freq_perc\n",
        "\n",
        "\n",
        "# Prints the entries of the frequency table in descending order\n",
        "def display_table(dataset, index):\n",
        "    table = freq_table(dataset, index)\n",
        "    table_display = []\n",
        "    for key in table:\n",
        "        key_val_as_tuple = (table[key], key)\n",
        "        table_display.append(key_val_as_tuple)\n",
        "\n",
        "    table_sorted = sorted(table_display, reverse = True)\n",
        "    for entry in table_sorted:\n",
        "        print(entry[1], ':', entry[0])\n",
        "\n",
        "prime_genre_tab = display_table(apps_data_ios_english_free,11)\n",
        "print('\\n')\n",
        "genres_tab = display_table(android_clean_english_free,9)\n",
        "print('\\n')\n",
        "category_tab = display_table(android_clean_english_free,1)"
      ]
    },
    {
      "cell_type": "code",
      "execution_count": null,
      "metadata": {
        "colab": {
          "base_uri": "https://localhost:8080/"
        },
        "id": "F7kIo90tEKmQ",
        "outputId": "2cccf9ed-7274-45c2-c507-00f63204d979"
      },
      "outputs": [
        {
          "output_type": "stream",
          "name": "stdout",
          "text": [
            "Social Networking :  71548.34905660378\n",
            "Photo & Video :  28441.54375\n",
            "Games :  22788.6696905016\n",
            "Music :  57326.530303030304\n",
            "Reference :  74942.11111111111\n",
            "Health & Fitness :  23298.015384615384\n",
            "Weather :  52279.892857142855\n",
            "Utilities :  18684.456790123455\n",
            "Travel :  28243.8\n",
            "Shopping :  26919.690476190477\n",
            "News :  21248.023255813954\n",
            "Navigation :  86090.33333333333\n",
            "Lifestyle :  16485.764705882353\n",
            "Entertainment :  14029.830708661417\n",
            "Food & Drink :  33333.92307692308\n",
            "Sports :  23008.898550724636\n",
            "Book :  39758.5\n",
            "Finance :  31467.944444444445\n",
            "Education :  7003.983050847458\n",
            "Productivity :  21028.410714285714\n",
            "Business :  7491.117647058823\n",
            "Catalogs :  4004.0\n",
            "Medical :  612.0\n"
          ]
        }
      ],
      "source": [
        "prime_genre_freq = freq_table(apps_data_ios_english_free,11)\n",
        "\n",
        "for genre in prime_genre_freq:\n",
        "    total = 0 # somme des notes des utilisateurs (le nombre de notes, et non les notes réelles) propres à chaque genre\n",
        "    len_genre = 0 # nombre d'applications spécifiques à chaque genre\n",
        "\n",
        "    for item in apps_data_ios_english_free:\n",
        "        genre_app = item[11]\n",
        "        if genre_app == genre:\n",
        "            total += float(item[5])\n",
        "            len_genre += 1\n",
        "    avg = total/len_genre\n",
        "    print(genre, \": \", avg)"
      ]
    },
    {
      "cell_type": "code",
      "execution_count": null,
      "metadata": {
        "colab": {
          "base_uri": "https://localhost:8080/"
        },
        "id": "r6IFxajsEKmQ",
        "outputId": "8847e2c4-a0a7-454e-9a96-bd8ae29a1f14"
      },
      "outputs": [
        {
          "output_type": "stream",
          "name": "stdout",
          "text": [
            "ART_AND_DESIGN :  1986335.0877192982\n",
            "AUTO_AND_VEHICLES :  647317.8170731707\n",
            "BEAUTY :  513151.88679245283\n",
            "BOOKS_AND_REFERENCE :  8767811.894736841\n",
            "BUSINESS :  1712290.1474201474\n",
            "COMICS :  817657.2727272727\n",
            "COMMUNICATION :  38456119.167247385\n",
            "DATING :  854028.8303030303\n",
            "EDUCATION :  1833495.145631068\n",
            "ENTERTAINMENT :  11640705.88235294\n",
            "EVENTS :  253542.22222222222\n",
            "FINANCE :  1387692.475609756\n",
            "FOOD_AND_DRINK :  1924897.7363636363\n",
            "HEALTH_AND_FITNESS :  4188821.9853479853\n",
            "HOUSE_AND_HOME :  1331540.5616438356\n",
            "LIBRARIES_AND_DEMO :  638503.734939759\n",
            "LIFESTYLE :  1437816.2687861272\n",
            "GAME :  15588015.603248259\n",
            "FAMILY :  3695641.8198090694\n",
            "MEDICAL :  120550.61980830671\n",
            "SOCIAL :  23253652.127118643\n",
            "SHOPPING :  7036877.311557789\n",
            "PHOTOGRAPHY :  17840110.40229885\n",
            "SPORTS :  3638640.1428571427\n",
            "TRAVEL_AND_LOCAL :  13984077.710144928\n",
            "TOOLS :  10801391.298666667\n",
            "PERSONALIZATION :  5201482.6122448975\n",
            "PRODUCTIVITY :  16787331.344927534\n",
            "PARENTING :  542603.6206896552\n",
            "WEATHER :  5074486.197183099\n",
            "VIDEO_PLAYERS :  24727872.452830188\n",
            "NEWS_AND_MAGAZINES :  9549178.467741935\n",
            "MAPS_AND_NAVIGATION :  4056941.7741935486\n"
          ]
        }
      ],
      "source": [
        "category_freq = freq_table(android_clean_english_free,1)\n",
        "\n",
        "for category in category_freq:\n",
        "    total = 0\n",
        "    len_category = 0\n",
        "\n",
        "    for item in android_clean_english_free:\n",
        "        category_app = item[1]\n",
        "        if category_app == category:\n",
        "            car = item[5]\n",
        "            car = car.replace('+', '')\n",
        "            car  =car.replace(',', '')\n",
        "            total += float(car)\n",
        "            len_category += 1\n",
        "    avg = total/len_category\n",
        "    print(category, \": \", avg)"
      ]
    }
  ],
  "metadata": {
    "kernelspec": {
      "display_name": "Python 3",
      "language": "python",
      "name": "python3"
    },
    "language_info": {
      "codemirror_mode": {
        "name": "ipython",
        "version": 3
      },
      "file_extension": ".py",
      "mimetype": "text/x-python",
      "name": "python",
      "nbconvert_exporter": "python",
      "pygments_lexer": "ipython3",
      "version": "3.8.2"
    },
    "colab": {
      "provenance": [],
      "include_colab_link": true
    }
  },
  "nbformat": 4,
  "nbformat_minor": 0
}
