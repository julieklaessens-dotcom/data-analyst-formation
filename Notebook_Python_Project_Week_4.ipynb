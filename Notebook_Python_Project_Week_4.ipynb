{
  "nbformat": 4,
  "nbformat_minor": 0,
  "metadata": {
    "colab": {
      "provenance": [],
      "authorship_tag": "ABX9TyNkNw/uty4jH49A8azuFSxL",
      "include_colab_link": true
    },
    "kernelspec": {
      "name": "python3",
      "display_name": "Python 3"
    },
    "language_info": {
      "name": "python"
    }
  },
  "cells": [
    {
      "cell_type": "markdown",
      "metadata": {
        "id": "view-in-github",
        "colab_type": "text"
      },
      "source": [
        "<a href=\"https://colab.research.google.com/github/julieklaessens-dotcom/data-analyst-formation/blob/main/Notebook_Python_Project_Week_4.ipynb\" target=\"_parent\"><img src=\"https://colab.research.google.com/assets/colab-badge.svg\" alt=\"Open In Colab\"/></a>"
      ]
    },
    {
      "cell_type": "markdown",
      "source": [
        "# Semaine 4 — Notebook Python (Projet Python mini-analyse)\n",
        "\n",
        "*Auteur :* Julie Klaessens  \n",
        "*Date :* 2025-10-27  \n",
        "*Objectif :* Réaliser un projet soi-même en python avec une base de donnée de [Netflix](https://www.kaggle.com/datasets/shivamb/netflix-shows) disponible sur Kaggle. Réaliser le [tutoriel interactif](https://www.kaggle.com/learn/pandas) de Pandas sur Kaggle au préalable."
      ],
      "metadata": {
        "id": "usimGlbFxrlz"
      }
    },
    {
      "cell_type": "markdown",
      "source": [
        "## 1. Introduction\n",
        "Ce notebook compile mes exercices issus du tutoriel Pandas de **Kaggle** et de mon projet Netflix de **Kaggle** également."
      ],
      "metadata": {
        "id": "LZJZ4w7QyzIU"
      }
    },
    {
      "cell_type": "markdown",
      "source": [
        "## 2. Tutoriel Pandas"
      ],
      "metadata": {
        "id": "rE69BNI22WI1"
      }
    },
    {
      "cell_type": "markdown",
      "source": [
        "### 2.1 Creating, Reading and Writing\n"
      ],
      "metadata": {
        "id": "SSTbZgcq2h_a"
      }
    },
    {
      "cell_type": "markdown",
      "source": [
        "See exercise here : [\"Exercise\"](https://colab.research.google.com/drive/1VTYQBNkeVBmtXNemBNKR9ug-zU7_-XFL#scrollTo=XBeKcGS7w02T)"
      ],
      "metadata": {
        "id": "TcjtuHwX39pz"
      }
    },
    {
      "cell_type": "markdown",
      "source": [
        "### 2.2 Indexing, Selecting & Assigning"
      ],
      "metadata": {
        "id": "0f6CAhNn2zOr"
      }
    },
    {
      "cell_type": "markdown",
      "source": [
        "See exercise here : [\"Exercise\"](https://colab.research.google.com/drive/1rN0gFG4qoUKTMlK4g102tX5Oml5M2068)"
      ],
      "metadata": {
        "id": "1J4EVKxE4KBL"
      }
    },
    {
      "cell_type": "markdown",
      "source": [
        "### 2.3 Summary Functions and Maps"
      ],
      "metadata": {
        "id": "Yz481rvf23r6"
      }
    },
    {
      "cell_type": "markdown",
      "source": [
        "### 2.4 Grouping and Sorting"
      ],
      "metadata": {
        "id": "Rshm0VrL26UM"
      }
    },
    {
      "cell_type": "markdown",
      "source": [
        "### 2.5 Data Types and Missing Values"
      ],
      "metadata": {
        "id": "qKC80PK328nq"
      }
    },
    {
      "cell_type": "markdown",
      "source": [
        "### 2.6 Renaming and Combining"
      ],
      "metadata": {
        "id": "yAMmkb5Y3Bxz"
      }
    },
    {
      "cell_type": "markdown",
      "source": [
        "## 3. Mini-projet Python / Pandas — Analyse Netflix 📺"
      ],
      "metadata": {
        "id": "VnsYHtir4Qib"
      }
    },
    {
      "cell_type": "markdown",
      "source": [
        "Objectif : charger, nettoyer et analyser un dataset réel (Netflix Movies & Shows).\n",
        "\n",
        "À la fin de ce notebook, je veux pouvoir répondre à :\n",
        "- Combien de contenus sont des films vs des séries TV ?\n",
        "- Quels sont les pays qui apparaissent le plus souvent ?\n",
        "- Comment la production de contenu évolue dans le temps ?\n"
      ],
      "metadata": {
        "id": "o35GfPxg4gCq"
      }
    },
    {
      "cell_type": "markdown",
      "source": [
        "### 3.1. Import des librairies & chargement des données\n",
        "\n",
        "Étapes :\n",
        "1. Importer `pandas` et `matplotlib.pyplot`\n",
        "2. Charger le CSV Netflix\n",
        "3. Vérifier les 5 premières lignes"
      ],
      "metadata": {
        "id": "mt3iRShc4r3S"
      }
    },
    {
      "cell_type": "code",
      "source": [
        "import pandas as pd\n",
        "import matplotlib.pyplot as plt\n",
        "\n",
        "from google.colab import drive\n",
        "drive.mount('/content/drive')\n",
        "\n",
        "df = pd.read_csv('/content/drive/MyDrive/Data/netflix_titles.csv')\n",
        "\n",
        "# Aperçu des premières lignes\n",
        "df.head()"
      ],
      "metadata": {
        "colab": {
          "base_uri": "https://localhost:8080/",
          "height": 310
        },
        "id": "-Xw_WcSe4xM7",
        "outputId": "9a2d591a-9dfc-461c-9242-025e8209faf3"
      },
      "execution_count": 1,
      "outputs": [
        {
          "output_type": "stream",
          "name": "stdout",
          "text": [
            "Mounted at /content/drive\n"
          ]
        },
        {
          "output_type": "execute_result",
          "data": {
            "text/plain": [
              "  show_id     type                  title         director  \\\n",
              "0      s1    Movie   Dick Johnson Is Dead  Kirsten Johnson   \n",
              "1      s2  TV Show          Blood & Water              NaN   \n",
              "2      s3  TV Show              Ganglands  Julien Leclercq   \n",
              "3      s4  TV Show  Jailbirds New Orleans              NaN   \n",
              "4      s5  TV Show           Kota Factory              NaN   \n",
              "\n",
              "                                                cast        country  \\\n",
              "0                                                NaN  United States   \n",
              "1  Ama Qamata, Khosi Ngema, Gail Mabalane, Thaban...   South Africa   \n",
              "2  Sami Bouajila, Tracy Gotoas, Samuel Jouy, Nabi...            NaN   \n",
              "3                                                NaN            NaN   \n",
              "4  Mayur More, Jitendra Kumar, Ranjan Raj, Alam K...          India   \n",
              "\n",
              "           date_added  release_year rating   duration  \\\n",
              "0  September 25, 2021          2020  PG-13     90 min   \n",
              "1  September 24, 2021          2021  TV-MA  2 Seasons   \n",
              "2  September 24, 2021          2021  TV-MA   1 Season   \n",
              "3  September 24, 2021          2021  TV-MA   1 Season   \n",
              "4  September 24, 2021          2021  TV-MA  2 Seasons   \n",
              "\n",
              "                                           listed_in  \\\n",
              "0                                      Documentaries   \n",
              "1    International TV Shows, TV Dramas, TV Mysteries   \n",
              "2  Crime TV Shows, International TV Shows, TV Act...   \n",
              "3                             Docuseries, Reality TV   \n",
              "4  International TV Shows, Romantic TV Shows, TV ...   \n",
              "\n",
              "                                         description  \n",
              "0  As her father nears the end of his life, filmm...  \n",
              "1  After crossing paths at a party, a Cape Town t...  \n",
              "2  To protect his family from a powerful drug lor...  \n",
              "3  Feuds, flirtations and toilet talk go down amo...  \n",
              "4  In a city of coaching centers known to train I...  "
            ],
            "text/html": [
              "\n",
              "  <div id=\"df-f81d8118-7549-487f-9927-a541134fd6ba\" class=\"colab-df-container\">\n",
              "    <div>\n",
              "<style scoped>\n",
              "    .dataframe tbody tr th:only-of-type {\n",
              "        vertical-align: middle;\n",
              "    }\n",
              "\n",
              "    .dataframe tbody tr th {\n",
              "        vertical-align: top;\n",
              "    }\n",
              "\n",
              "    .dataframe thead th {\n",
              "        text-align: right;\n",
              "    }\n",
              "</style>\n",
              "<table border=\"1\" class=\"dataframe\">\n",
              "  <thead>\n",
              "    <tr style=\"text-align: right;\">\n",
              "      <th></th>\n",
              "      <th>show_id</th>\n",
              "      <th>type</th>\n",
              "      <th>title</th>\n",
              "      <th>director</th>\n",
              "      <th>cast</th>\n",
              "      <th>country</th>\n",
              "      <th>date_added</th>\n",
              "      <th>release_year</th>\n",
              "      <th>rating</th>\n",
              "      <th>duration</th>\n",
              "      <th>listed_in</th>\n",
              "      <th>description</th>\n",
              "    </tr>\n",
              "  </thead>\n",
              "  <tbody>\n",
              "    <tr>\n",
              "      <th>0</th>\n",
              "      <td>s1</td>\n",
              "      <td>Movie</td>\n",
              "      <td>Dick Johnson Is Dead</td>\n",
              "      <td>Kirsten Johnson</td>\n",
              "      <td>NaN</td>\n",
              "      <td>United States</td>\n",
              "      <td>September 25, 2021</td>\n",
              "      <td>2020</td>\n",
              "      <td>PG-13</td>\n",
              "      <td>90 min</td>\n",
              "      <td>Documentaries</td>\n",
              "      <td>As her father nears the end of his life, filmm...</td>\n",
              "    </tr>\n",
              "    <tr>\n",
              "      <th>1</th>\n",
              "      <td>s2</td>\n",
              "      <td>TV Show</td>\n",
              "      <td>Blood &amp; Water</td>\n",
              "      <td>NaN</td>\n",
              "      <td>Ama Qamata, Khosi Ngema, Gail Mabalane, Thaban...</td>\n",
              "      <td>South Africa</td>\n",
              "      <td>September 24, 2021</td>\n",
              "      <td>2021</td>\n",
              "      <td>TV-MA</td>\n",
              "      <td>2 Seasons</td>\n",
              "      <td>International TV Shows, TV Dramas, TV Mysteries</td>\n",
              "      <td>After crossing paths at a party, a Cape Town t...</td>\n",
              "    </tr>\n",
              "    <tr>\n",
              "      <th>2</th>\n",
              "      <td>s3</td>\n",
              "      <td>TV Show</td>\n",
              "      <td>Ganglands</td>\n",
              "      <td>Julien Leclercq</td>\n",
              "      <td>Sami Bouajila, Tracy Gotoas, Samuel Jouy, Nabi...</td>\n",
              "      <td>NaN</td>\n",
              "      <td>September 24, 2021</td>\n",
              "      <td>2021</td>\n",
              "      <td>TV-MA</td>\n",
              "      <td>1 Season</td>\n",
              "      <td>Crime TV Shows, International TV Shows, TV Act...</td>\n",
              "      <td>To protect his family from a powerful drug lor...</td>\n",
              "    </tr>\n",
              "    <tr>\n",
              "      <th>3</th>\n",
              "      <td>s4</td>\n",
              "      <td>TV Show</td>\n",
              "      <td>Jailbirds New Orleans</td>\n",
              "      <td>NaN</td>\n",
              "      <td>NaN</td>\n",
              "      <td>NaN</td>\n",
              "      <td>September 24, 2021</td>\n",
              "      <td>2021</td>\n",
              "      <td>TV-MA</td>\n",
              "      <td>1 Season</td>\n",
              "      <td>Docuseries, Reality TV</td>\n",
              "      <td>Feuds, flirtations and toilet talk go down amo...</td>\n",
              "    </tr>\n",
              "    <tr>\n",
              "      <th>4</th>\n",
              "      <td>s5</td>\n",
              "      <td>TV Show</td>\n",
              "      <td>Kota Factory</td>\n",
              "      <td>NaN</td>\n",
              "      <td>Mayur More, Jitendra Kumar, Ranjan Raj, Alam K...</td>\n",
              "      <td>India</td>\n",
              "      <td>September 24, 2021</td>\n",
              "      <td>2021</td>\n",
              "      <td>TV-MA</td>\n",
              "      <td>2 Seasons</td>\n",
              "      <td>International TV Shows, Romantic TV Shows, TV ...</td>\n",
              "      <td>In a city of coaching centers known to train I...</td>\n",
              "    </tr>\n",
              "  </tbody>\n",
              "</table>\n",
              "</div>\n",
              "    <div class=\"colab-df-buttons\">\n",
              "\n",
              "  <div class=\"colab-df-container\">\n",
              "    <button class=\"colab-df-convert\" onclick=\"convertToInteractive('df-f81d8118-7549-487f-9927-a541134fd6ba')\"\n",
              "            title=\"Convert this dataframe to an interactive table.\"\n",
              "            style=\"display:none;\">\n",
              "\n",
              "  <svg xmlns=\"http://www.w3.org/2000/svg\" height=\"24px\" viewBox=\"0 -960 960 960\">\n",
              "    <path d=\"M120-120v-720h720v720H120Zm60-500h600v-160H180v160Zm220 220h160v-160H400v160Zm0 220h160v-160H400v160ZM180-400h160v-160H180v160Zm440 0h160v-160H620v160ZM180-180h160v-160H180v160Zm440 0h160v-160H620v160Z\"/>\n",
              "  </svg>\n",
              "    </button>\n",
              "\n",
              "  <style>\n",
              "    .colab-df-container {\n",
              "      display:flex;\n",
              "      gap: 12px;\n",
              "    }\n",
              "\n",
              "    .colab-df-convert {\n",
              "      background-color: #E8F0FE;\n",
              "      border: none;\n",
              "      border-radius: 50%;\n",
              "      cursor: pointer;\n",
              "      display: none;\n",
              "      fill: #1967D2;\n",
              "      height: 32px;\n",
              "      padding: 0 0 0 0;\n",
              "      width: 32px;\n",
              "    }\n",
              "\n",
              "    .colab-df-convert:hover {\n",
              "      background-color: #E2EBFA;\n",
              "      box-shadow: 0px 1px 2px rgba(60, 64, 67, 0.3), 0px 1px 3px 1px rgba(60, 64, 67, 0.15);\n",
              "      fill: #174EA6;\n",
              "    }\n",
              "\n",
              "    .colab-df-buttons div {\n",
              "      margin-bottom: 4px;\n",
              "    }\n",
              "\n",
              "    [theme=dark] .colab-df-convert {\n",
              "      background-color: #3B4455;\n",
              "      fill: #D2E3FC;\n",
              "    }\n",
              "\n",
              "    [theme=dark] .colab-df-convert:hover {\n",
              "      background-color: #434B5C;\n",
              "      box-shadow: 0px 1px 3px 1px rgba(0, 0, 0, 0.15);\n",
              "      filter: drop-shadow(0px 1px 2px rgba(0, 0, 0, 0.3));\n",
              "      fill: #FFFFFF;\n",
              "    }\n",
              "  </style>\n",
              "\n",
              "    <script>\n",
              "      const buttonEl =\n",
              "        document.querySelector('#df-f81d8118-7549-487f-9927-a541134fd6ba button.colab-df-convert');\n",
              "      buttonEl.style.display =\n",
              "        google.colab.kernel.accessAllowed ? 'block' : 'none';\n",
              "\n",
              "      async function convertToInteractive(key) {\n",
              "        const element = document.querySelector('#df-f81d8118-7549-487f-9927-a541134fd6ba');\n",
              "        const dataTable =\n",
              "          await google.colab.kernel.invokeFunction('convertToInteractive',\n",
              "                                                    [key], {});\n",
              "        if (!dataTable) return;\n",
              "\n",
              "        const docLinkHtml = 'Like what you see? Visit the ' +\n",
              "          '<a target=\"_blank\" href=https://colab.research.google.com/notebooks/data_table.ipynb>data table notebook</a>'\n",
              "          + ' to learn more about interactive tables.';\n",
              "        element.innerHTML = '';\n",
              "        dataTable['output_type'] = 'display_data';\n",
              "        await google.colab.output.renderOutput(dataTable, element);\n",
              "        const docLink = document.createElement('div');\n",
              "        docLink.innerHTML = docLinkHtml;\n",
              "        element.appendChild(docLink);\n",
              "      }\n",
              "    </script>\n",
              "  </div>\n",
              "\n",
              "\n",
              "    <div id=\"df-6b404fb1-b3c0-474d-906e-3dc08ed5ac80\">\n",
              "      <button class=\"colab-df-quickchart\" onclick=\"quickchart('df-6b404fb1-b3c0-474d-906e-3dc08ed5ac80')\"\n",
              "                title=\"Suggest charts\"\n",
              "                style=\"display:none;\">\n",
              "\n",
              "<svg xmlns=\"http://www.w3.org/2000/svg\" height=\"24px\"viewBox=\"0 0 24 24\"\n",
              "     width=\"24px\">\n",
              "    <g>\n",
              "        <path d=\"M19 3H5c-1.1 0-2 .9-2 2v14c0 1.1.9 2 2 2h14c1.1 0 2-.9 2-2V5c0-1.1-.9-2-2-2zM9 17H7v-7h2v7zm4 0h-2V7h2v10zm4 0h-2v-4h2v4z\"/>\n",
              "    </g>\n",
              "</svg>\n",
              "      </button>\n",
              "\n",
              "<style>\n",
              "  .colab-df-quickchart {\n",
              "      --bg-color: #E8F0FE;\n",
              "      --fill-color: #1967D2;\n",
              "      --hover-bg-color: #E2EBFA;\n",
              "      --hover-fill-color: #174EA6;\n",
              "      --disabled-fill-color: #AAA;\n",
              "      --disabled-bg-color: #DDD;\n",
              "  }\n",
              "\n",
              "  [theme=dark] .colab-df-quickchart {\n",
              "      --bg-color: #3B4455;\n",
              "      --fill-color: #D2E3FC;\n",
              "      --hover-bg-color: #434B5C;\n",
              "      --hover-fill-color: #FFFFFF;\n",
              "      --disabled-bg-color: #3B4455;\n",
              "      --disabled-fill-color: #666;\n",
              "  }\n",
              "\n",
              "  .colab-df-quickchart {\n",
              "    background-color: var(--bg-color);\n",
              "    border: none;\n",
              "    border-radius: 50%;\n",
              "    cursor: pointer;\n",
              "    display: none;\n",
              "    fill: var(--fill-color);\n",
              "    height: 32px;\n",
              "    padding: 0;\n",
              "    width: 32px;\n",
              "  }\n",
              "\n",
              "  .colab-df-quickchart:hover {\n",
              "    background-color: var(--hover-bg-color);\n",
              "    box-shadow: 0 1px 2px rgba(60, 64, 67, 0.3), 0 1px 3px 1px rgba(60, 64, 67, 0.15);\n",
              "    fill: var(--button-hover-fill-color);\n",
              "  }\n",
              "\n",
              "  .colab-df-quickchart-complete:disabled,\n",
              "  .colab-df-quickchart-complete:disabled:hover {\n",
              "    background-color: var(--disabled-bg-color);\n",
              "    fill: var(--disabled-fill-color);\n",
              "    box-shadow: none;\n",
              "  }\n",
              "\n",
              "  .colab-df-spinner {\n",
              "    border: 2px solid var(--fill-color);\n",
              "    border-color: transparent;\n",
              "    border-bottom-color: var(--fill-color);\n",
              "    animation:\n",
              "      spin 1s steps(1) infinite;\n",
              "  }\n",
              "\n",
              "  @keyframes spin {\n",
              "    0% {\n",
              "      border-color: transparent;\n",
              "      border-bottom-color: var(--fill-color);\n",
              "      border-left-color: var(--fill-color);\n",
              "    }\n",
              "    20% {\n",
              "      border-color: transparent;\n",
              "      border-left-color: var(--fill-color);\n",
              "      border-top-color: var(--fill-color);\n",
              "    }\n",
              "    30% {\n",
              "      border-color: transparent;\n",
              "      border-left-color: var(--fill-color);\n",
              "      border-top-color: var(--fill-color);\n",
              "      border-right-color: var(--fill-color);\n",
              "    }\n",
              "    40% {\n",
              "      border-color: transparent;\n",
              "      border-right-color: var(--fill-color);\n",
              "      border-top-color: var(--fill-color);\n",
              "    }\n",
              "    60% {\n",
              "      border-color: transparent;\n",
              "      border-right-color: var(--fill-color);\n",
              "    }\n",
              "    80% {\n",
              "      border-color: transparent;\n",
              "      border-right-color: var(--fill-color);\n",
              "      border-bottom-color: var(--fill-color);\n",
              "    }\n",
              "    90% {\n",
              "      border-color: transparent;\n",
              "      border-bottom-color: var(--fill-color);\n",
              "    }\n",
              "  }\n",
              "</style>\n",
              "\n",
              "      <script>\n",
              "        async function quickchart(key) {\n",
              "          const quickchartButtonEl =\n",
              "            document.querySelector('#' + key + ' button');\n",
              "          quickchartButtonEl.disabled = true;  // To prevent multiple clicks.\n",
              "          quickchartButtonEl.classList.add('colab-df-spinner');\n",
              "          try {\n",
              "            const charts = await google.colab.kernel.invokeFunction(\n",
              "                'suggestCharts', [key], {});\n",
              "          } catch (error) {\n",
              "            console.error('Error during call to suggestCharts:', error);\n",
              "          }\n",
              "          quickchartButtonEl.classList.remove('colab-df-spinner');\n",
              "          quickchartButtonEl.classList.add('colab-df-quickchart-complete');\n",
              "        }\n",
              "        (() => {\n",
              "          let quickchartButtonEl =\n",
              "            document.querySelector('#df-6b404fb1-b3c0-474d-906e-3dc08ed5ac80 button');\n",
              "          quickchartButtonEl.style.display =\n",
              "            google.colab.kernel.accessAllowed ? 'block' : 'none';\n",
              "        })();\n",
              "      </script>\n",
              "    </div>\n",
              "\n",
              "    </div>\n",
              "  </div>\n"
            ],
            "application/vnd.google.colaboratory.intrinsic+json": {
              "type": "dataframe",
              "variable_name": "df",
              "summary": "{\n  \"name\": \"df\",\n  \"rows\": 8807,\n  \"fields\": [\n    {\n      \"column\": \"show_id\",\n      \"properties\": {\n        \"dtype\": \"string\",\n        \"num_unique_values\": 8807,\n        \"samples\": [\n          \"s4971\",\n          \"s3363\",\n          \"s5495\"\n        ],\n        \"semantic_type\": \"\",\n        \"description\": \"\"\n      }\n    },\n    {\n      \"column\": \"type\",\n      \"properties\": {\n        \"dtype\": \"category\",\n        \"num_unique_values\": 2,\n        \"samples\": [\n          \"TV Show\",\n          \"Movie\"\n        ],\n        \"semantic_type\": \"\",\n        \"description\": \"\"\n      }\n    },\n    {\n      \"column\": \"title\",\n      \"properties\": {\n        \"dtype\": \"string\",\n        \"num_unique_values\": 8807,\n        \"samples\": [\n          \"Game Over, Man!\",\n          \"Arsenio Hall: Smart & Classy\"\n        ],\n        \"semantic_type\": \"\",\n        \"description\": \"\"\n      }\n    },\n    {\n      \"column\": \"director\",\n      \"properties\": {\n        \"dtype\": \"string\",\n        \"num_unique_values\": 4528,\n        \"samples\": [\n          \"Kanwal Sethi\",\n          \"R\\u00e9my Four, Julien War\"\n        ],\n        \"semantic_type\": \"\",\n        \"description\": \"\"\n      }\n    },\n    {\n      \"column\": \"cast\",\n      \"properties\": {\n        \"dtype\": \"string\",\n        \"num_unique_values\": 7692,\n        \"samples\": [\n          \"Tzi Ma, Christine Ko, Hong-Chi Lee, Hayden Szeto, Kunjue Li, Fiona Fu, James Saito, Joan Chen\",\n          \"Priyanshu Painyuli, Chandrachoor Rai, Shadab Kamal, Rajeev Siddhartha, Sheetal Thakur, Ninad Kamat, Swati Semwal, Eijaz Khan\"\n        ],\n        \"semantic_type\": \"\",\n        \"description\": \"\"\n      }\n    },\n    {\n      \"column\": \"country\",\n      \"properties\": {\n        \"dtype\": \"category\",\n        \"num_unique_values\": 748,\n        \"samples\": [\n          \"United States, United Kingdom, Denmark, Sweden\",\n          \"United Kingdom, Hong Kong\"\n        ],\n        \"semantic_type\": \"\",\n        \"description\": \"\"\n      }\n    },\n    {\n      \"column\": \"date_added\",\n      \"properties\": {\n        \"dtype\": \"category\",\n        \"num_unique_values\": 1767,\n        \"samples\": [\n          \"October 22, 2018\",\n          \"January 29, 2021\"\n        ],\n        \"semantic_type\": \"\",\n        \"description\": \"\"\n      }\n    },\n    {\n      \"column\": \"release_year\",\n      \"properties\": {\n        \"dtype\": \"number\",\n        \"std\": 8,\n        \"min\": 1925,\n        \"max\": 2021,\n        \"num_unique_values\": 74,\n        \"samples\": [\n          1996,\n          1969\n        ],\n        \"semantic_type\": \"\",\n        \"description\": \"\"\n      }\n    },\n    {\n      \"column\": \"rating\",\n      \"properties\": {\n        \"dtype\": \"category\",\n        \"num_unique_values\": 17,\n        \"samples\": [\n          \"PG-13\",\n          \"TV-MA\"\n        ],\n        \"semantic_type\": \"\",\n        \"description\": \"\"\n      }\n    },\n    {\n      \"column\": \"duration\",\n      \"properties\": {\n        \"dtype\": \"category\",\n        \"num_unique_values\": 220,\n        \"samples\": [\n          \"37 min\",\n          \"177 min\"\n        ],\n        \"semantic_type\": \"\",\n        \"description\": \"\"\n      }\n    },\n    {\n      \"column\": \"listed_in\",\n      \"properties\": {\n        \"dtype\": \"category\",\n        \"num_unique_values\": 514,\n        \"samples\": [\n          \"Crime TV Shows, International TV Shows, TV Mysteries\",\n          \"Children & Family Movies, Classic Movies, Dramas\"\n        ],\n        \"semantic_type\": \"\",\n        \"description\": \"\"\n      }\n    },\n    {\n      \"column\": \"description\",\n      \"properties\": {\n        \"dtype\": \"string\",\n        \"num_unique_values\": 8775,\n        \"samples\": [\n          \"A heedless teen drifter who falls for a small-town waitress makes the mistake of robbing a drug lord, putting his life and newfound love in jeopardy.\",\n          \"Twelve-year-old Calvin manages to join the navy and serves in the battle of Guadalcanal. But when his age is revealed, the boy is sent to the brig.\"\n        ],\n        \"semantic_type\": \"\",\n        \"description\": \"\"\n      }\n    }\n  ]\n}"
            }
          },
          "metadata": {},
          "execution_count": 1
        }
      ]
    },
    {
      "cell_type": "markdown",
      "source": [
        "### 3.2. Comprendre la structure du dataset\n",
        "\n",
        "Objectif : comprendre les colonnes et la qualité des données.\n",
        "\n",
        "À faire :\n",
        "- df.shape : dimensions\n",
        "- df.columns : noms des colonnes\n",
        "- df.info() : types des colonnes\n",
        "- df.isna().sum() : valeurs manquantes"
      ],
      "metadata": {
        "id": "JwL9Hq7f5S96"
      }
    },
    {
      "cell_type": "code",
      "source": [
        "print(\"Shape (lignes, colonnes) :\", df.shape)\n",
        "print(\"Colonnes :\", df.columns.tolist())\n",
        "\n",
        "df.info()\n",
        "\n",
        "df.isna().sum()"
      ],
      "metadata": {
        "id": "Hm8Dok3Y5YWb"
      },
      "execution_count": null,
      "outputs": []
    },
    {
      "cell_type": "markdown",
      "source": [
        "### 3.3. Nettoyage des données\n",
        "\n",
        "Objectif : préparer les données pour l'analyse.\n",
        "\n",
        "Idées :\n",
        "- Supprimer les doublons\n",
        "- Gérer les valeurs manquantes (country, release_year, etc.)\n",
        "- Normaliser certaines colonnes texte si besoin\n"
      ],
      "metadata": {
        "id": "kXZ7Qi9Q5h2a"
      }
    },
    {
      "cell_type": "code",
      "source": [
        "# 1. Supprimer les doublons exacts\n",
        "df = df.drop_duplicates()\n",
        "\n",
        "# 2. Vérifier les colonnes critiques pour l'analyse\n",
        "colonnes_importantes = ['title', 'type', 'country', 'release_year']\n",
        "df[colonnes_importantes].isna().sum()\n",
        "\n",
        "# 3. Remplacer les pays manquants par 'Unknown'\n",
        "df['country'] = df['country'].fillna('Unknown')\n",
        "\n",
        "# 4. Aperçu après nettoyage\n",
        "df.head()"
      ],
      "metadata": {
        "id": "Rkrfzuth5qDc"
      },
      "execution_count": null,
      "outputs": []
    },
    {
      "cell_type": "markdown",
      "source": [
        "### 3.4. Analyse descriptive : types de contenu\n",
        "\n",
        "Questions :\n",
        "- Films vs Séries TV, quelles proportions ?\n",
        "- Visualisation basique\n"
      ],
      "metadata": {
        "id": "h37hT4z-5sZq"
      }
    },
    {
      "cell_type": "code",
      "source": [
        "type_counts = df['type'].value_counts()\n",
        "print(\"Comptage brut :\")\n",
        "print(type_counts)\n",
        "\n",
        "type_prop = df['type'].value_counts(normalize=True) * 100\n",
        "print(\"\\nProportions (%):\")\n",
        "print(type_prop.round(2))\n",
        "\n",
        "type_counts.plot(kind='bar')\n",
        "plt.title(\"Répartition Films vs Séries TV\")\n",
        "plt.xlabel(\"Type de contenu\")\n",
        "plt.ylabel(\"Nombre de titres\")\n",
        "plt.show()"
      ],
      "metadata": {
        "id": "7ZC0Zb135vdz"
      },
      "execution_count": null,
      "outputs": []
    },
    {
      "cell_type": "markdown",
      "source": [
        "### 3.5. Analyse géographique : pays d'origine\n",
        "\n",
        "Questions :\n",
        "- Quels pays produisent le plus de contenu ?\n",
        "- Top 10 pays\n",
        "\n",
        "Remarque : la colonne `country` peut contenir plusieurs pays séparés par des virgules.\n",
        "Pour simplifier, on prend juste le premier pays.\n"
      ],
      "metadata": {
        "id": "LoImypV85xgb"
      }
    },
    {
      "cell_type": "code",
      "source": [
        "df['main_country'] = df['country'].str.split(',').str[0].str.strip()\n",
        "\n",
        "top_countries = df['main_country'].value_counts().head(10)\n",
        "print(top_countries)\n",
        "\n",
        "top_countries.plot(kind='bar')\n",
        "plt.title(\"Top 10 des pays les plus présents\")\n",
        "plt.xlabel(\"Pays\")\n",
        "plt.ylabel(\"Nombre de titres\")\n",
        "plt.show()"
      ],
      "metadata": {
        "id": "4xZtfI8050V0"
      },
      "execution_count": null,
      "outputs": []
    },
    {
      "cell_type": "markdown",
      "source": [
        "### 3.6. Analyse temporelle : année de sortie\n",
        "\n",
        "Questions :\n",
        "- Est-ce que Netflix publie plus de contenu récemment ?\n",
        "- Comment ça évolue dans le temps ?\n"
      ],
      "metadata": {
        "id": "7lUZV1BW52iz"
      }
    },
    {
      "cell_type": "code",
      "source": [
        "year_counts = df['release_year'].value_counts().sort_index()\n",
        "\n",
        "print(\"Anciennes années :\")\n",
        "print(year_counts.head())\n",
        "print(\"\\nAnnées récentes :\")\n",
        "print(year_counts.tail())\n",
        "\n",
        "year_counts.plot(kind='line')\n",
        "plt.title(\"Évolution du nombre de sorties par année\")\n",
        "plt.xlabel(\"Année de sortie\")\n",
        "plt.ylabel(\"Nombre de titres\")\n",
        "plt.show()"
      ],
      "metadata": {
        "id": "YOXv6-aI55wS"
      },
      "execution_count": null,
      "outputs": []
    },
    {
      "cell_type": "markdown",
      "source": [
        "### 3.7. Conclusion / Storytelling 📝\n",
        "\n",
        "Dans cette cellule, j'explique mes résultats comme si je le présentais à un recruteur.\n",
        "\n",
        "Exemple de choses à commenter :\n",
        "- Part Films vs Séries\n",
        "- Pays dominants\n",
        "- Tendance dans le temps\n"
      ],
      "metadata": {
        "id": "JV5IS8L657wq"
      }
    },
    {
      "cell_type": "code",
      "source": [
        "resume = \"\"\"\n",
        "Résumé du dataset Netflix :\n",
        "\n",
        "1. Répartition des types :\n",
        "   ...\n",
        "\n",
        "2. Pays dominants :\n",
        "   ...\n",
        "\n",
        "3. Évolution temporelle :\n",
        "   ...\n",
        "\n",
        "Conclusions :\n",
        "   ...\n",
        "\"\"\"\n",
        "print(resume)"
      ],
      "metadata": {
        "id": "fg10xijT6DOd"
      },
      "execution_count": null,
      "outputs": []
    }
  ]
}