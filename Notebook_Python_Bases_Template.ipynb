{
  "cells": [
    {
      "cell_type": "markdown",
      "metadata": {},
      "source": [
        "# Semaine 39 — Notebook Python (bases, opérateurs, structures)\n\n*Auteur :* _à compléter_  \n*Date :* 2025-09-22  \n*Objectif :* Découvrir les bases de Python pour l’analyse de données : variables, opérateurs,\nstructures de données, conditions, boucles, et mini‑fonctions."
      ]
    },
    {
      "cell_type": "markdown",
      "metadata": {},
      "source": [
        "## 1. Introduction\n- Ce notebook compile mes exercices issus de **Dataquest (Part 1 — Cours 1‑2)** et de **HackerRank (Python Basics)**.\n- Structure : types & conversions → opérateurs → structures (listes, tuples, dict, sets) → contrôle de flux → fonctions → mini‑exos."
      ]
    },
    {
      "cell_type": "markdown",
      "metadata": {},
      "source": [
        "## 2. Types & variables"
      ]
    },
    {
      "cell_type": "code",
      "execution_count": null,
      "metadata": {},
      "outputs": [],
      "source": [
        "# Exemple\na = 42\nb = 3.14\nc = \"Bonjour\"\nprint(type(a), type(b), type(c))"
      ]
    },
    {
      "cell_type": "code",
      "execution_count": null,
      "metadata": {},
      "outputs": [],
      "source": [
        "# TODO: créer vos variables (age, poids, nom) et afficher leurs types"
      ]
    },
    {
      "cell_type": "markdown",
      "metadata": {},
      "source": [
        "## 8. Conclusion\n- Ce que j’ai appris : …\n- Points à renforcer : …\n- Références : Dataquest Part 1 (Cours 1‑2), HackerRank Python (Basics)."
      ]
    }
  ],
  "metadata": {
    "kernelspec": {
      "display_name": "Python 3",
      "language": "python",
      "name": "python3"
    },
    "language_info": {
      "name": "python",
      "version": "3.x"
    }
  },
  "nbformat": 4,
  "nbformat_minor": 5
}